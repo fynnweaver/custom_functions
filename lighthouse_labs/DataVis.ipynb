{
 "cells": [
  {
   "cell_type": "markdown",
   "id": "34d14567-6814-4477-899f-470c36779ee2",
   "metadata": {},
   "source": [
    "# Overview\n",
    "\n",
    "They all require `madplotlib.pyplot as plt` and each requires relevent modeling from `sklearn`. Most require `pandas`, `numpy` or both"
   ]
  },
  {
   "cell_type": "markdown",
   "id": "754be082-b093-453f-a1da-b892dc56f149",
   "metadata": {},
   "source": [
    "## Mine"
   ]
  },
  {
   "cell_type": "markdown",
   "id": "b9688306-d298-48fe-9e71-a46c8a9b7c65",
   "metadata": {
    "tags": []
   },
   "source": [
    "### DBSCAN params visualization\n",
    "\n",
    "I created the following function to iterate through possible `eps` and `min_samples` parameters. First define lists of both then create *combination* via `itertools.product` then run following using combo object"
   ]
  },
  {
   "cell_type": "code",
   "execution_count": 2,
   "id": "a5cb78dc-f06d-4e39-9c8e-7940a382cfd3",
   "metadata": {},
   "outputs": [],
   "source": [
    "def DBSCAN_test(data, combination, graph_number):\n",
    "    \"\"\"Number of graphs must equal combos length for proper mapping\n",
    "            - for ideal visualization both graph numbers should be equal\n",
    "        figsize should be a list with two elements\n",
    "        data and combos should be nparrays\n",
    "    \n",
    "    df = np.array([1, 2, 3, 4], [3, 4, 5, 6])\n",
    "    combination = np.array([0.1, 0.1], [0.1, 1], [0.1, 20], [5, 0.1], [5, 1], [5, 20])\n",
    "    dimension = math.sqrt(len(combination))\n",
    "    \n",
    "    ex: DBSCAN_test(df, combination, [dimension, dimension])\n",
    "            --> output: supblotted visual of input data shape with DBSCAN outcomes plotted \n",
    "            for each combination in color\n",
    "    \"\"\"\n",
    "    \n",
    "    fig, axes = plt.subplots(graph_number[0], graph_number[1], figsize=(12, 12))\n",
    "    fig.tight_layout()\n",
    "\n",
    "    # Plot the data using one of Matplotlib's plotting functions\n",
    "    for i in range(len(combination)):\n",
    "        db = DBSCAN(eps=combination[i][0],\n",
    "                    min_samples=combination[i][1],\n",
    "                    metric='euclidean')\n",
    "        \n",
    "        data_db = db.fit_predict(data)\n",
    "\n",
    "        # Plot the data using one of Matplotlib's plotting functions\n",
    "         #create empty centroid lists\n",
    "        X_centroids = []\n",
    "        Y_centroids = []\n",
    "    \n",
    "        #append each new cluster mean for each iteration\n",
    "        for cluster in set(data_db):\n",
    "            x = data[data_db == cluster,0]\n",
    "            y = data[data_db == cluster,1]\n",
    "            X_centroids.append(np.mean(x))\n",
    "            Y_centroids.append(np.mean(y))\n",
    "        \n",
    "            #visualize    \n",
    "            axes.flat[i].scatter(x, y, s=50, marker='s', label=f\"cluster {cluster}\")\n",
    "            axes.flat[i].set_title(combos[i])"
   ]
  },
  {
   "cell_type": "markdown",
   "id": "44195db4-95a3-4b0b-8e83-d9907f01f783",
   "metadata": {
    "tags": []
   },
   "source": [
    "### Radar chart clustering"
   ]
  },
  {
   "cell_type": "code",
   "execution_count": 1,
   "id": "c279eeaf-0c40-453e-92a4-fa961bab4f09",
   "metadata": {},
   "outputs": [],
   "source": [
    "def radar_plot(data, cluster, \n",
    "               title = \"Clustering\", \n",
    "               save=False, \n",
    "               cluster_map=False):\n",
    "    \"\"\"Creates a radar plot from inputed data and clustering model output\n",
    "    data should be DataFrame and cluster an np.array\n",
    "    \n",
    "    title can be specified to set plot title or it will default to 'Clustering'\n",
    "    \n",
    "    save can be specified as a string in which case the image is saved to the path\n",
    "    of that inputted string. If no string is specified the image will not be saved.\n",
    "    \n",
    "    cluster_map specifies how many of the identified clusters to draw. \n",
    "    Must be integer > 0\n",
    "    \"\"\"\n",
    "    \n",
    "    #concatinate clustering and data\n",
    "    data_cluster = pd.concat([data,pd.DataFrame(cluster)], axis=1)\n",
    "    data_cluster = data_cluster.rename(columns= {0: 'cluster'})\n",
    "    #group by cluster with means and save to new frame\n",
    "    clustered = data_cluster.groupby('cluster').mean()\n",
    "    #generate category labels\n",
    "    categories = [*clustered.columns, clustered.columns[0]]\n",
    "\n",
    "    #empty object for defining groups\n",
    "    radar = []\n",
    "    #define groups, last element must be first element to close radar group\n",
    "    for i in range(len(clustered)):\n",
    "        radar.append([*clustered.iloc[i], clustered.iloc[i, 0]])\n",
    "    \n",
    "    #label location for radar plot\n",
    "    label_loc = np.linspace(start=0, stop=2 * np.pi, \n",
    "                            num=len(radar[0]))\n",
    "    #color scheme\n",
    "    colors = ['royalblue', 'darkorange', 'forestgreen', 'sienna', 'mediumpurple']  \n",
    "    \n",
    "    #initiate plot\n",
    "    plt.figure(figsize=(8,8))\n",
    "    plt.subplot(polar = True)\n",
    "    \n",
    "    #if cluster map is defined\n",
    "    if bool(cluster_map):\n",
    "        cluster_map = cluster_map\n",
    "    else:\n",
    "        cluster_map = len(radar)\n",
    "    \n",
    "    #loop through every cluster\n",
    "    for i in range(0,cluster_map):\n",
    "        #if there are outliers (ex with DBSCAN) id them\n",
    "        if clustered.index[i] < 0:\n",
    "            plt.plot(label_loc, radar[i], label=f\"Outliers\", color='red')\n",
    "        #else plot as cluster\n",
    "        else: \n",
    "            plt.plot(label_loc, radar[i], label=f\"Cluster {i}\", color=colors[i])\n",
    "    \n",
    "    lines, labels = plt.thetagrids(np.degrees(label_loc), labels=categories)\n",
    "\n",
    "    plt.title(title)\n",
    "    plt.legend()\n",
    "    \n",
    "    #if save path is defined save figure\n",
    "    if bool(save):\n",
    "        plt.savefig(save)\n",
    "    #if not just show\n",
    "    else:\n",
    "        plt.show()"
   ]
  },
  {
   "cell_type": "markdown",
   "id": "78c7828a-3132-4ef2-a615-3ab626e3dfc8",
   "metadata": {
    "jp-MarkdownHeadingCollapsed": true,
    "tags": []
   },
   "source": [
    "## Lighthouse"
   ]
  },
  {
   "cell_type": "markdown",
   "id": "d82b6894-61de-48d7-a8f9-fe4aee4650d4",
   "metadata": {
    "jp-MarkdownHeadingCollapsed": true,
    "tags": []
   },
   "source": [
    "### Cluster Plots\n",
    "\n",
    "Following is to plot outcomes of clustered models in color"
   ]
  },
  {
   "cell_type": "code",
   "execution_count": 3,
   "id": "ec2e3d9c-4b17-4856-a4fa-6b3035c79174",
   "metadata": {},
   "outputs": [],
   "source": [
    "#Function to visualize how the algorith clustered the data\n",
    "def plot_clusters(data, data_fit, plt_cluster_centers = False):\n",
    "    #create empty centroid lists\n",
    "    X_centroids = []\n",
    "    Y_centroids = []\n",
    "    \n",
    "    #append each new cluster mean for each iteration\n",
    "    for cluster in set(data_fit):\n",
    "        x = data[data_fit == cluster,0]\n",
    "        y = data[data_fit == cluster,1]\n",
    "        X_centroids.append(np.mean(x))\n",
    "        Y_centroids.append(np.mean(y))\n",
    "        \n",
    "        #visualize    \n",
    "        plt.scatter(x, y, s=50, marker='s', label=f\"cluster {cluster}\")\n",
    "    \n",
    "    #if this is set to true also plot the cluster centers\n",
    "    if plt_cluster_centers:\n",
    "        plt.scatter(X_centroids,\n",
    "                    Y_centroids,\n",
    "                    marker='*',\n",
    "                    c='red',\n",
    "                    s=250,\n",
    "                    label='centroids')\n",
    "    plt.legend()\n",
    "    plt.grid()\n",
    "    plt.show()"
   ]
  },
  {
   "cell_type": "markdown",
   "id": "c83442fc-d47b-48d2-b126-ce4f5beb46bd",
   "metadata": {
    "jp-MarkdownHeadingCollapsed": true,
    "tags": []
   },
   "source": [
    "### Kmeans Elbow Plot"
   ]
  },
  {
   "cell_type": "code",
   "execution_count": 5,
   "id": "2c51d0cb-fb7c-4715-8229-1f7c89ecce40",
   "metadata": {},
   "outputs": [],
   "source": [
    "#function to calculate distortion for multiple k values and plot the result\n",
    "def plot_distortion(data, max_clusters = 10):\n",
    "    #empty object to distore distortion\n",
    "    distortions = []\n",
    "    \n",
    "    #iterate through each number, initialize and run kmeans, append distortion\n",
    "    for i in range(1, max_clusters+1):\n",
    "        km = KMeans(n_clusters=i,\n",
    "                    init='k-means++',\n",
    "                    n_init=10,\n",
    "                    random_state=0)\n",
    "        km.fit(data)\n",
    "        #.inertia_ attribute retrieves distortions\n",
    "        distortions.append(km.inertia_)\n",
    "    \n",
    "    #visualize\n",
    "    plt.plot(range(1, max_clusters+1), distortions, marker='o')\n",
    "    plt.xlabel('Number of clusters')\n",
    "    plt.ylabel('Distortion')  \n",
    "    plt.show()"
   ]
  },
  {
   "cell_type": "markdown",
   "id": "ef9df650-ff8b-4e8e-af29-78d4bb8d322f",
   "metadata": {
    "jp-MarkdownHeadingCollapsed": true,
    "tags": []
   },
   "source": [
    "### Dendrogram\n"
   ]
  },
  {
   "cell_type": "code",
   "execution_count": 6,
   "id": "563f09d3-eefc-47c4-9a3c-1b1226dd181c",
   "metadata": {},
   "outputs": [],
   "source": [
    "#Requires following import\n",
    "import scipy.cluster.hierarchy as sch"
   ]
  },
  {
   "cell_type": "code",
   "execution_count": 7,
   "id": "fd445a4b-8010-4705-a80d-03190dec44aa",
   "metadata": {},
   "outputs": [],
   "source": [
    "#let's create a function to plot a dendogram\n",
    "def plot_dendrogram(X, method='ward'):\n",
    "   #let's plot the data we just generated\n",
    "    fig, ax = plt.subplots(figsize=(12,8))\n",
    "\n",
    "    dendrogram = sch.dendrogram(sch.linkage(X, method=method))\n",
    "    plt.title(\"Dendrogram\")\n",
    "    plt.ylabel(\"Euclidean distances\")\n",
    "    plt.xlabel('Points')\n",
    "    plt.show()"
   ]
  }
 ],
 "metadata": {
  "kernelspec": {
   "display_name": "Python 3 (ipykernel)",
   "language": "python",
   "name": "python3"
  },
  "language_info": {
   "codemirror_mode": {
    "name": "ipython",
    "version": 3
   },
   "file_extension": ".py",
   "mimetype": "text/x-python",
   "name": "python",
   "nbconvert_exporter": "python",
   "pygments_lexer": "ipython3",
   "version": "3.9.7"
  }
 },
 "nbformat": 4,
 "nbformat_minor": 5
}
