{
 "cells": [
  {
   "cell_type": "code",
   "execution_count": null,
   "id": "1f2162ff-ec77-40e8-8675-b39a61543992",
   "metadata": {},
   "outputs": [],
   "source": [
    "import os\n",
    "import pandas as pd"
   ]
  },
  {
   "cell_type": "markdown",
   "id": "a5b09f73-981c-4e19-b3a3-423ce06897fd",
   "metadata": {
    "jp-MarkdownHeadingCollapsed": true,
    "tags": []
   },
   "source": [
    "### Foursquare & Yelp venues"
   ]
  },
  {
   "cell_type": "code",
   "execution_count": null,
   "id": "6585df61-3d23-49d3-a5fd-5c74e4034f1f",
   "metadata": {},
   "outputs": [],
   "source": [
    "#custom dict of category ids and labels\n",
    "cat_ids = [['Arts and Entertainment', 10000, 'arts, All'],\n",
    "           ['Business and Professional Services', 11000, 'business, All'],\n",
    "           ['Community and Government', 12000, 'publicservicesgovt, All'],\n",
    "           ['Dining and Drinking', 13000, 'restaurants, All'],\n",
    "           ['Event', 14000,'yelpevents, All'],\n",
    "           ['Health and Medicine', 15000,'health, All'],\n",
    "           ['Landmarks and Outdoors', 16000,'landmarks, All'],\n",
    "           ['Retail', 17000,'shopping, All'],\n",
    "           ['Sports and Recreation', 18000,'active, All'],\n",
    "           ['Travel and Transportation', 19000,'transport, All']\n",
    "          ]\n",
    "\n",
    "cat_ids = pd.DataFrame(cat_ids, columns=['Category','four_ID','yelp_ID'])"
   ]
  },
  {
   "cell_type": "markdown",
   "id": "7e196845-3432-4ce9-a52d-6a3f98bf6602",
   "metadata": {},
   "source": [
    "#### Foursquare"
   ]
  },
  {
   "cell_type": "code",
   "execution_count": null,
   "id": "d82252c3-f144-475e-bf8a-a3559e0688ee",
   "metadata": {},
   "outputs": [],
   "source": [
    "headers_four = {\n",
    "    \"Accept\": \"application/json\",\n",
    "    \"Authorization\": os.environ[\"FOURSQUARE_API_KEY\"]\n",
    "}"
   ]
  },
  {
   "cell_type": "code",
   "execution_count": null,
   "id": "d3e97a5e-bac9-4f51-9445-029097b7abb5",
   "metadata": {},
   "outputs": [],
   "source": [
    "#make a function that returns venue names for all venue types and total venue amount\n",
    "def get_venues_four(location, category):\n",
    "    \"\"\" intakes: string of lat, long location / int of acceptable category, see cat_ids\n",
    "        returns: Dataframe of all the subcategory types found in that category along with counts\n",
    "    ex input: get_venues_four('45.6387,-122.6615', 13000)\"\"\"\n",
    "    root_endpoint = \"https://api.foursquare.com/v3/places/search\"\n",
    "    \n",
    "    #get data relevent to input location\n",
    "    response = re.get(root_endpoint, \n",
    "                      params={'ll': location, 'radius': 1000, 'categories': category, 'limit': 50}, \n",
    "                      headers = headers_four)\n",
    "    result = response.json()\n",
    "    \n",
    "    #define empty objects\n",
    "    category_amount = 0\n",
    "    venues = {'id': [],\n",
    "              'title': []\n",
    "    }\n",
    "    \n",
    "    #cycle into data to get place type\n",
    "    for place in result['results']:\n",
    "        \n",
    "        #go into every type a place is\n",
    "        for p_type in place['categories']:\n",
    "    \n",
    "            category_amount +=1 \n",
    "            venues['title'].append(p_type['name'])\n",
    "            venues['id'].append(p_type['id'])\n",
    "\n",
    "    #save venues into data frame and count values\n",
    "    venues_df = pd.DataFrame(venues).value_counts()\n",
    "    #return a database of the venue names and an integer of total tagged with that id\n",
    "    return pd.DataFrame(venues_df, columns=['total'])\n",
    "\n",
    "test_df = get_venues_four('45.6387,-122.6615', 13000)\n",
    "test_df.head()"
   ]
  },
  {
   "cell_type": "markdown",
   "id": "900d8187-ce44-47d8-9cca-561d031af3c3",
   "metadata": {},
   "source": [
    "#### Yelp"
   ]
  },
  {
   "cell_type": "code",
   "execution_count": null,
   "id": "91c0b693-7231-412f-8b09-2a4e5ec58bcb",
   "metadata": {},
   "outputs": [],
   "source": [
    "def get_venues_yelp(location, category):\n",
    "    \"\"\" intakes: string of lat, long location / int of acceptable category, see cat_ids\n",
    "        returns: Dataframe of all the subcategory types found in that category along with counts\n",
    "    ex input: get_venues_four('45.6387,-122.6615', 13000)\"\"\"\n",
    "    root_endpoint = \"https://api.yelp.com/v3/businesses/search\"\n",
    "    \n",
    "    #Test out retrieving API info\n",
    "    response = re.get(root_endpoint, \n",
    "                  params = {'latitude': location[0], \n",
    "                            'longitude':location[1],\n",
    "                            'categories':category,\n",
    "                            'radius':1000},\n",
    "                  headers = headers_yelp)\n",
    "    \n",
    "    result = response.json()\n",
    "    \n",
    "    #define empty objects\n",
    "    venue_amount = 0\n",
    "    venues = []\n",
    "    \n",
    "    for place in result['businesses']:\n",
    "      \n",
    "        #print(i['categories'])\n",
    "        for venue_type in place['categories']:\n",
    "        \n",
    "            #print(venue_type['alias'])\n",
    "            venues.append(venue_type['title'])\n",
    "            venue_amount += 1\n",
    "        \n",
    "\n",
    "    #save venues into data frame and count values\n",
    "    venues_df = pd.DataFrame(venues, columns=['title']).value_counts()\n",
    "    #make dataframe look nice with proper index\n",
    "    return  pd.DataFrame(venues_df, columns=['total'])"
   ]
  },
  {
   "cell_type": "markdown",
   "id": "09f54754-b693-4f38-be86-253492191c05",
   "metadata": {
    "jp-MarkdownHeadingCollapsed": true,
    "tags": []
   },
   "source": [
    "### Transport for London"
   ]
  },
  {
   "cell_type": "code",
   "execution_count": 2,
   "id": "dc9171e0-d753-4dce-b119-f51b0d180743",
   "metadata": {},
   "outputs": [
    {
     "ename": "KeyError",
     "evalue": "'TFL_API_KEY'",
     "output_type": "error",
     "traceback": [
      "\u001b[0;31m---------------------------------------------------------------------------\u001b[0m",
      "\u001b[0;31mKeyError\u001b[0m                                  Traceback (most recent call last)",
      "\u001b[0;32m/var/folders/r6/fys6jqz12zg0mt2n15r5gw3m0000gq/T/ipykernel_74795/3482051368.py\u001b[0m in \u001b[0;36m<module>\u001b[0;34m\u001b[0m\n\u001b[1;32m      2\u001b[0m \u001b[0;32mimport\u001b[0m \u001b[0mos\u001b[0m\u001b[0;34m\u001b[0m\u001b[0;34m\u001b[0m\u001b[0m\n\u001b[1;32m      3\u001b[0m \u001b[0;34m\u001b[0m\u001b[0m\n\u001b[0;32m----> 4\u001b[0;31m \u001b[0mtransport_key\u001b[0m \u001b[0;34m=\u001b[0m \u001b[0mos\u001b[0m\u001b[0;34m.\u001b[0m\u001b[0menviron\u001b[0m\u001b[0;34m[\u001b[0m\u001b[0;34m'TFL_API_KEY'\u001b[0m\u001b[0;34m]\u001b[0m\u001b[0;34m\u001b[0m\u001b[0;34m\u001b[0m\u001b[0m\n\u001b[0m",
      "\u001b[0;32m/opt/anaconda3/lib/python3.9/os.py\u001b[0m in \u001b[0;36m__getitem__\u001b[0;34m(self, key)\u001b[0m\n\u001b[1;32m    677\u001b[0m         \u001b[0;32mexcept\u001b[0m \u001b[0mKeyError\u001b[0m\u001b[0;34m:\u001b[0m\u001b[0;34m\u001b[0m\u001b[0;34m\u001b[0m\u001b[0m\n\u001b[1;32m    678\u001b[0m             \u001b[0;31m# raise KeyError with the original key value\u001b[0m\u001b[0;34m\u001b[0m\u001b[0;34m\u001b[0m\u001b[0m\n\u001b[0;32m--> 679\u001b[0;31m             \u001b[0;32mraise\u001b[0m \u001b[0mKeyError\u001b[0m\u001b[0;34m(\u001b[0m\u001b[0mkey\u001b[0m\u001b[0;34m)\u001b[0m \u001b[0;32mfrom\u001b[0m \u001b[0;32mNone\u001b[0m\u001b[0;34m\u001b[0m\u001b[0;34m\u001b[0m\u001b[0m\n\u001b[0m\u001b[1;32m    680\u001b[0m         \u001b[0;32mreturn\u001b[0m \u001b[0mself\u001b[0m\u001b[0;34m.\u001b[0m\u001b[0mdecodevalue\u001b[0m\u001b[0;34m(\u001b[0m\u001b[0mvalue\u001b[0m\u001b[0;34m)\u001b[0m\u001b[0;34m\u001b[0m\u001b[0;34m\u001b[0m\u001b[0m\n\u001b[1;32m    681\u001b[0m \u001b[0;34m\u001b[0m\u001b[0m\n",
      "\u001b[0;31mKeyError\u001b[0m: 'TFL_API_KEY'"
     ]
    }
   ],
   "source": [
    "transport_key = os.environ['TFL_API_KEY']"
   ]
  },
  {
   "cell_type": "code",
   "execution_count": 1,
   "id": "a8156e0c-035e-4c93-b1d2-e1fa74766825",
   "metadata": {},
   "outputs": [
    {
     "ename": "NameError",
     "evalue": "name 'transport_primary' is not defined",
     "output_type": "error",
     "traceback": [
      "\u001b[0;31m---------------------------------------------------------------------------\u001b[0m",
      "\u001b[0;31mNameError\u001b[0m                                 Traceback (most recent call last)",
      "\u001b[0;32m/var/folders/r6/fys6jqz12zg0mt2n15r5gw3m0000gq/T/ipykernel_74795/1574944354.py\u001b[0m in \u001b[0;36m<module>\u001b[0;34m\u001b[0m\n\u001b[1;32m      1\u001b[0m \u001b[0;31m#This is a function that will intake string of API info we're looking for\u001b[0m\u001b[0;34m\u001b[0m\u001b[0;34m\u001b[0m\u001b[0m\n\u001b[1;32m      2\u001b[0m \u001b[0;31m#and a dictionary of the parameters to define\u001b[0m\u001b[0;34m\u001b[0m\u001b[0;34m\u001b[0m\u001b[0m\n\u001b[0;32m----> 3\u001b[0;31m \u001b[0;32mdef\u001b[0m \u001b[0mTFL_API\u001b[0m\u001b[0;34m(\u001b[0m\u001b[0msearch_term\u001b[0m\u001b[0;34m,\u001b[0m \u001b[0mparameters\u001b[0m \u001b[0;34m=\u001b[0m \u001b[0;34m{\u001b[0m\u001b[0;34m'app_key'\u001b[0m\u001b[0;34m:\u001b[0m\u001b[0mtransport_primary\u001b[0m\u001b[0;34m}\u001b[0m\u001b[0;34m)\u001b[0m\u001b[0;34m:\u001b[0m\u001b[0;34m\u001b[0m\u001b[0;34m\u001b[0m\u001b[0m\n\u001b[0m\u001b[1;32m      4\u001b[0m     \"\"\"search_term must be a string of valid end point queries \n\u001b[1;32m      5\u001b[0m             \u001b[0;34m-\u001b[0m \u001b[0;32mas\u001b[0m \u001b[0mspecified\u001b[0m \u001b[0mby\u001b[0m \u001b[0mthe\u001b[0m \u001b[0mTFL\u001b[0m \u001b[0mdocumentation\u001b[0m\u001b[0;34m\u001b[0m\u001b[0;34m\u001b[0m\u001b[0m\n",
      "\u001b[0;31mNameError\u001b[0m: name 'transport_primary' is not defined"
     ]
    }
   ],
   "source": [
    "#This is a function that will intake string of API info we're looking for\n",
    "#and a dictionary of the parameters to define\n",
    "def TFL_API(search_term, parameters = {'app_key':transport_key}):\n",
    "    \"\"\"search_term must be a string of valid end point queries \n",
    "            - as specified by the TFL documentation\n",
    "            \n",
    "            returns JSON of results\n",
    "            \"\"\"\n",
    "    \n",
    "    root_endpoint = 'https://api.tfl.gov.uk/'\n",
    "    \n",
    "    #define endpoint\n",
    "    endpoint = root_endpoint + search_term\n",
    "    \n",
    "    #GET\n",
    "    response = re.get(root_endpoint + search_term, \n",
    "    params=parameters)\n",
    "    \n",
    "    #return status code and results\n",
    "    status_code, results = response.status_code, response.json()\n",
    "    \n",
    "    #Let's make sure it worked\n",
    "    if status_code != 200:\n",
    "        print('Something went wrong!')\n",
    "        print(status_code)\n",
    "        \n",
    "    return results"
   ]
  }
 ],
 "metadata": {
  "kernelspec": {
   "display_name": "Python 3 (ipykernel)",
   "language": "python",
   "name": "python3"
  },
  "language_info": {
   "codemirror_mode": {
    "name": "ipython",
    "version": 3
   },
   "file_extension": ".py",
   "mimetype": "text/x-python",
   "name": "python",
   "nbconvert_exporter": "python",
   "pygments_lexer": "ipython3",
   "version": "3.9.7"
  }
 },
 "nbformat": 4,
 "nbformat_minor": 5
}
